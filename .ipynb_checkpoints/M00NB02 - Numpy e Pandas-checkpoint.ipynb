{
 "cells": [
  {
   "cell_type": "markdown",
   "metadata": {
    "id": "_t-b8HQXI7UU"
   },
   "source": [
    "# <center>VAI Academy</center>\n",
    "# <center> Introdução ao NumPy e Pandas</center>\n",
    "___\n",
    "Todo o conteúdo que você terá acesso ao longo desse período é confidencial, não sendo possível compartilhar ou comercializar os links ou os materiais recebidos que sejam de propriedade da VAI Academy. \n",
    "\n",
    "Dessa forma, ao participar do curso você está aceitando os termos de confidencialidade e não-comercialização dos conteúdos que serão recebidos.\n",
    "___\n",
    "\n",
    "# <center> Objetivos de aprendizado </center>\n",
    "- Familiarizar-se com as funcionalidades básicas do NumPy e Pandas\n",
    "- Ser capaz de carregar dados em um DataFrame\n",
    "- Ser capaz de realizar manipulações básicas de dados\n",
    "___\n",
    "\n",
    "## Conteúdo\n",
    "1. [Introdução](#intro)\n",
    "2. [NumPy](#numpy)\n",
    "3. [Pandas](#pandas)<br>\n",
    "\n",
    "<a id=\"intro\"></a>\n",
    "## 1. Introdução\n",
    "\n",
    "Agora que você já teve uma pequena introdução ao mundo do Python, vamos te introduzir a dois dos pacotes básicos mais importantes em análise de dados em Python: o **NumPy** e o **Pandas**.\n",
    "\n",
    "Boa aula!"
   ]
  },
  {
   "cell_type": "markdown",
   "metadata": {
    "id": "xDZkVGOjI7Uc"
   },
   "source": [
    "<a name=\"numpy\"></a>\n",
    "## 2. NumPy\n",
    "\n"
   ]
  },
  {
   "cell_type": "markdown",
   "metadata": {
    "id": "FYsV7fiyI7Uc"
   },
   "source": [
    "### 2.1. O que é o NumPy?\n",
    "\n",
    "**NumPy** é a abreviação de *Numerical Python* ou *Numeric Python*. Ela é uma biblioteca *open-source* (ou seja, é um software cujo código original é disponibilizado livremente e pode ser distribuído e modificado) que oferece suporte a arrays e matrizes multidimensionais, provendo diversas funções matemáticas úteis em computação científica.\n",
    "\n",
    "Mas por que você deveria utilizar o NumPy? É simples! As listas do Python funcionam como as arrays, no entanto, são lentas para utilização com grandes volumes de dados. No ramo de Ciência de Dados, velocidade e recursos durante o processamento são bem importantes! Dessa forma, o NumPy nos possibilita utilizar os objetos arrays, que são bem mais rápidos que as listas tradicionais do Python.\n",
    "\n",
    "O **ndarray** é o objeto fundamental do NumPy. Este objeto é uma matriz N-dimensional, vamos entender melhor como este objeto funciona nas células abaixo."
   ]
  },
  {
   "cell_type": "markdown",
   "metadata": {
    "id": "OWBF8V3fI7Ud"
   },
   "source": [
    "#### 2.1.1. Importando o NumPy"
   ]
  },
  {
   "cell_type": "markdown",
   "metadata": {
    "id": "cmh4gzdFJqp6"
   },
   "source": [
    "Na aula anterior você já aprendeu a importar o NumPy, vamos importá-lo com o alias ```np```."
   ]
  },
  {
   "cell_type": "code",
   "execution_count": 3,
   "metadata": {
    "executionInfo": {
     "elapsed": 741,
     "status": "ok",
     "timestamp": 1652315862182,
     "user": {
      "displayName": "Vinicius Henrique",
      "userId": "08353724498470769731"
     },
     "user_tz": 180
    },
    "id": "s2sCbGy_I7Ue",
    "scrolled": false
   },
   "outputs": [],
   "source": [
    "import numpy as np"
   ]
  },
  {
   "cell_type": "markdown",
   "metadata": {
    "id": "FqF1WpJ7I7Uq"
   },
   "source": [
    "Vamos agora observar o porquê o NumPy é tão poderoso e preferível às listas do Python.\n",
    "\n",
    "Imagine que você tenha duas listas de dados de indivíduos, com alturas e pesos, e queira calcular o IMC [(Índice de Massa Corporal)](https://pt.wikipedia.org/wiki/Índice_de_massa_corporal) de cada um deles, como mostrado abaixo:"
   ]
  },
  {
   "cell_type": "code",
   "execution_count": 8,
   "metadata": {
    "colab": {
     "base_uri": "https://localhost:8080/",
     "height": 200
    },
    "executionInfo": {
     "elapsed": 393,
     "status": "error",
     "timestamp": 1652316105849,
     "user": {
      "displayName": "Vinicius Henrique",
      "userId": "08353724498470769731"
     },
     "user_tz": 180
    },
    "id": "4BxlI-C-I7Ut",
    "outputId": "0ee45e43-0cac-44fb-b37a-ac4db8d760e5"
   },
   "outputs": [
    {
     "ename": "TypeError",
     "evalue": "ignored",
     "output_type": "error",
     "traceback": [
      "\u001b[0;31m---------------------------------------------------------------------------\u001b[0m",
      "\u001b[0;31mTypeError\u001b[0m                                 Traceback (most recent call last)",
      "\u001b[0;32m<ipython-input-8-6d1374b18ff3>\u001b[0m in \u001b[0;36m<module>\u001b[0;34m()\u001b[0m\n\u001b[1;32m      3\u001b[0m \u001b[0;34m\u001b[0m\u001b[0m\n\u001b[1;32m      4\u001b[0m \u001b[0;31m# Calculando o IMC\u001b[0m\u001b[0;34m\u001b[0m\u001b[0;34m\u001b[0m\u001b[0;34m\u001b[0m\u001b[0m\n\u001b[0;32m----> 5\u001b[0;31m \u001b[0mimc\u001b[0m \u001b[0;34m=\u001b[0m \u001b[0mpeso\u001b[0m \u001b[0;34m/\u001b[0m \u001b[0maltura\u001b[0m \u001b[0;34m**\u001b[0m \u001b[0;36m2\u001b[0m\u001b[0;34m\u001b[0m\u001b[0;34m\u001b[0m\u001b[0m\n\u001b[0m",
      "\u001b[0;31mTypeError\u001b[0m: unsupported operand type(s) for ** or pow(): 'list' and 'int'"
     ]
    }
   ],
   "source": [
    "altura = [1.81, 1.77, 1.69, 1.91]\n",
    "peso = [89.0, 77.3, 55.9, 99.4]\n",
    "\n",
    "# Calculando o IMC\n",
    "imc = peso / altura ** 2"
   ]
  },
  {
   "cell_type": "markdown",
   "metadata": {
    "id": "qCtEhF62I7Uv"
   },
   "source": [
    "Observe que o Python nos retornou um erro porque não é possivel realizar cálculos com listas, para isso vamos utilizar os arrays do NumPy!"
   ]
  },
  {
   "cell_type": "code",
   "execution_count": 9,
   "metadata": {
    "colab": {
     "base_uri": "https://localhost:8080/"
    },
    "executionInfo": {
     "elapsed": 290,
     "status": "ok",
     "timestamp": 1652316122415,
     "user": {
      "displayName": "Vinicius Henrique",
      "userId": "08353724498470769731"
     },
     "user_tz": 180
    },
    "id": "KNMFG6iEI7Uw",
    "outputId": "91ae79c9-c87a-4fd5-b345-7703e1fe3a31"
   },
   "outputs": [
    {
     "data": {
      "text/plain": [
       "array([27.16644791, 24.67362508, 19.57214383, 27.24706011])"
      ]
     },
     "execution_count": 9,
     "metadata": {},
     "output_type": "execute_result"
    }
   ],
   "source": [
    "# Criando os arrays com o NumPy\n",
    "\n",
    "np_altura = np.array(altura)\n",
    "np_peso = np.array(peso)\n",
    "\n",
    "# Calculando o IMC\n",
    "imc = np_peso / np_altura ** 2\n",
    "imc"
   ]
  },
  {
   "cell_type": "markdown",
   "metadata": {
    "id": "w0SOdKBbI7Uy"
   },
   "source": [
    "O Numpy consegue realizar perfeitamente as operações elemento a elemento!\n",
    "\n",
    "Mas fique atento! O NumPy só consegue fazer isto pois ele assume que cada array possui elementos de um único tipo de dado. Se você tentar criar um array com tipos de dados diferentes, o NumPy irá converter todos os elementos para um único tipo. Observe abaixo:\n"
   ]
  },
  {
   "cell_type": "code",
   "execution_count": 10,
   "metadata": {
    "colab": {
     "base_uri": "https://localhost:8080/"
    },
    "executionInfo": {
     "elapsed": 296,
     "status": "ok",
     "timestamp": 1652316148798,
     "user": {
      "displayName": "Vinicius Henrique",
      "userId": "08353724498470769731"
     },
     "user_tz": 180
    },
    "id": "6EnSIBeviRhW",
    "outputId": "be466482-3fc7-4dca-9d84-1f81a0e357bb"
   },
   "outputs": [
    {
     "data": {
      "text/plain": [
       "array(['1.0', '4', 'True', 'NumPy'], dtype='<U32')"
      ]
     },
     "execution_count": 10,
     "metadata": {},
     "output_type": "execute_result"
    }
   ],
   "source": [
    "np.array([1.0, 4, True, \"NumPy\"])"
   ]
  },
  {
   "cell_type": "markdown",
   "metadata": {
    "id": "MhnufEJkJqp-"
   },
   "source": [
    "\n",
    "Além disso, algumas operações podem funcionar de forma diferente do que você imagina. Veja o exemplo abaixo:"
   ]
  },
  {
   "cell_type": "code",
   "execution_count": 11,
   "metadata": {
    "colab": {
     "base_uri": "https://localhost:8080/"
    },
    "executionInfo": {
     "elapsed": 345,
     "status": "ok",
     "timestamp": 1652316162279,
     "user": {
      "displayName": "Vinicius Henrique",
      "userId": "08353724498470769731"
     },
     "user_tz": 180
    },
    "id": "tML_YhdJI7Uz",
    "outputId": "f28bd9bd-0ce2-452d-fda2-ff0990c1701c"
   },
   "outputs": [
    {
     "data": {
      "text/plain": [
       "[1.81, 1.77, 1.69, 1.91, 1.81, 1.77, 1.69, 1.91]"
      ]
     },
     "execution_count": 11,
     "metadata": {},
     "output_type": "execute_result"
    }
   ],
   "source": [
    "# Lista do Python\n",
    "altura * 2"
   ]
  },
  {
   "cell_type": "code",
   "execution_count": 12,
   "metadata": {
    "colab": {
     "base_uri": "https://localhost:8080/"
    },
    "executionInfo": {
     "elapsed": 572,
     "status": "ok",
     "timestamp": 1652316167838,
     "user": {
      "displayName": "Vinicius Henrique",
      "userId": "08353724498470769731"
     },
     "user_tz": 180
    },
    "id": "YDEKa-xFI7U1",
    "outputId": "07d972fe-bf4b-4301-a766-eb1513660863"
   },
   "outputs": [
    {
     "data": {
      "text/plain": [
       "array([3.62, 3.54, 3.38, 3.82])"
      ]
     },
     "execution_count": 12,
     "metadata": {},
     "output_type": "execute_result"
    }
   ],
   "source": [
    "# NumPy array\n",
    "np_altura * 2"
   ]
  },
  {
   "cell_type": "markdown",
   "metadata": {
    "id": "pcH2OAfDI7U3"
   },
   "source": [
    "#### 2.1.2. Selecionando subconjuntos de NumPy Arrays\n",
    "A seleção de subconjuntos de NumPy arrays funciona de forma similar à listas de Python."
   ]
  },
  {
   "cell_type": "code",
   "execution_count": 13,
   "metadata": {
    "colab": {
     "base_uri": "https://localhost:8080/"
    },
    "executionInfo": {
     "elapsed": 299,
     "status": "ok",
     "timestamp": 1652316703198,
     "user": {
      "displayName": "Vinicius Henrique",
      "userId": "08353724498470769731"
     },
     "user_tz": 180
    },
    "id": "rwniB6TNI7U3",
    "outputId": "7158be02-0bf4-4f7e-d309-9bf5513cc813"
   },
   "outputs": [
    {
     "data": {
      "text/plain": [
       "19.572143832498863"
      ]
     },
     "execution_count": 13,
     "metadata": {},
     "output_type": "execute_result"
    }
   ],
   "source": [
    "# retornando o terceiro elemento da array\n",
    "imc[2]"
   ]
  },
  {
   "cell_type": "markdown",
   "metadata": {
    "id": "uj--wzxrI7U5"
   },
   "source": [
    "Você também pode selecionar subconjuntos baseados em condições, de forma que apenas os valores que satisfazem as condições serão retornados."
   ]
  },
  {
   "cell_type": "code",
   "execution_count": 14,
   "metadata": {
    "colab": {
     "base_uri": "https://localhost:8080/"
    },
    "executionInfo": {
     "elapsed": 328,
     "status": "ok",
     "timestamp": 1652316713820,
     "user": {
      "displayName": "Vinicius Henrique",
      "userId": "08353724498470769731"
     },
     "user_tz": 180
    },
    "id": "RwCbDMxwI7U6",
    "outputId": "f07295ef-5324-4619-b4d6-7b029f327666"
   },
   "outputs": [
    {
     "data": {
      "text/plain": [
       "array([27.16644791, 27.24706011])"
      ]
     },
     "execution_count": 14,
     "metadata": {},
     "output_type": "execute_result"
    }
   ],
   "source": [
    "imc[imc > 25]"
   ]
  },
  {
   "cell_type": "markdown",
   "metadata": {
    "id": "UxtVUoQ-JqqC"
   },
   "source": [
    "Podemos combinar a seleção de um subconjunto com a utilização de uma função, observe:"
   ]
  },
  {
   "cell_type": "code",
   "execution_count": 15,
   "metadata": {
    "colab": {
     "base_uri": "https://localhost:8080/"
    },
    "executionInfo": {
     "elapsed": 291,
     "status": "ok",
     "timestamp": 1652316717917,
     "user": {
      "displayName": "Vinicius Henrique",
      "userId": "08353724498470769731"
     },
     "user_tz": 180
    },
    "id": "Gx5DzL4LJqqC",
    "outputId": "65872e84-3f2a-4002-dcef-6454653d5622"
   },
   "outputs": [
    {
     "data": {
      "text/plain": [
       "51.840072986433796"
      ]
     },
     "execution_count": 15,
     "metadata": {},
     "output_type": "execute_result"
    }
   ],
   "source": [
    "# soma do IMC do primeiro e segundo elementos\n",
    "sum(imc[0:2])"
   ]
  },
  {
   "cell_type": "markdown",
   "metadata": {
    "id": "2zxPjcqzI7U8"
   },
   "source": [
    "Agora vamos fazer um exercício para fixação."
   ]
  },
  {
   "cell_type": "markdown",
   "metadata": {
    "id": "DFgrAn-4I7U9"
   },
   "source": [
    "#### Exercício 2.1"
   ]
  },
  {
   "cell_type": "code",
   "execution_count": null,
   "metadata": {
    "deletable": false,
    "executionInfo": {
     "elapsed": 19,
     "status": "aborted",
     "timestamp": 1652315863149,
     "user": {
      "displayName": "Vinicius Henrique",
      "userId": "08353724498470769731"
     },
     "user_tz": 180
    },
    "exid": "2.1.1",
    "id": "xCqSvuZKI7U9"
   },
   "outputs": [],
   "source": [
    "#Exercício 2.1.1\n",
    "# lista de pesos de castanhas\n",
    "c_peso = [0.946, 0.918, 0.906, 0.904, 0.858, 0.774, 0.652, 0.516, 0.478, 0.404, 0.396, 0.364, 0.342, 0.304, \n",
    "            0.262, 0.208, 0.134, 0.974, 0.792, 0.792, 0.628, 0.552, 0.506, 0.478, 0.462, 0.436, 0.408, 0.378, \n",
    "            0.3, 0.298, 0.268, 0.252, 0.16, 0.114, 0.092, 0.936, 0.894, 0.744, 0.706, 0.694, 0.69, 0.652, 0.518, \n",
    "            0.508, 0.502, 0.5, 0.47, 0.44, 0.39, 0.384]\n",
    "\n",
    "# Importe o numpy como np\n",
    "\n",
    "\n",
    "# Crie um numpy array (np_c_peso) a partir de c_peso\n",
    "np_c_peso =\n",
    "\n",
    "# Printe o tipo de np_c_peso\n"
   ]
  },
  {
   "cell_type": "code",
   "execution_count": null,
   "metadata": {
    "deletable": false,
    "executionInfo": {
     "elapsed": 19,
     "status": "aborted",
     "timestamp": 1652315863149,
     "user": {
      "displayName": "Vinicius Henrique",
      "userId": "08353724498470769731"
     },
     "user_tz": 180
    },
    "exid": "2.1.2",
    "id": "2Q3pveLOI7U_",
    "scrolled": false
   },
   "outputs": [],
   "source": [
    "#Exercício 2.1.2\n",
    "c_kg_preco = 45.00\n",
    "\n",
    "# Crie um numpy array (np_c_despesa) a partir de np_c_peso com a quantia gasta em cada compra\n",
    "np_c_despesa = "
   ]
  },
  {
   "cell_type": "code",
   "execution_count": null,
   "metadata": {
    "deletable": false,
    "executionInfo": {
     "elapsed": 20,
     "status": "aborted",
     "timestamp": 1652315863150,
     "user": {
      "displayName": "Vinicius Henrique",
      "userId": "08353724498470769731"
     },
     "user_tz": 180
    },
    "exid": "2.1.3",
    "id": "Xe-lvBwBI7VB",
    "scrolled": true
   },
   "outputs": [],
   "source": [
    "#Exercício 2.1.3\n",
    "# Crie a variável compras_acima_30 que corresponde ao valor total gasto nas compras que custaram mais de R$ 30. Printe o resultado\n",
    "compras_acima_30 = "
   ]
  },
  {
   "cell_type": "code",
   "execution_count": null,
   "metadata": {
    "deletable": false,
    "executionInfo": {
     "elapsed": 20,
     "status": "aborted",
     "timestamp": 1652315863150,
     "user": {
      "displayName": "Vinicius Henrique",
      "userId": "08353724498470769731"
     },
     "user_tz": 180
    },
    "exid": "2.1.4",
    "id": "wDn9adM4JqqF"
   },
   "outputs": [],
   "source": [
    "# Exercício 2.1.4\n",
    "# Printe o peso no indíce 20 (vigésima primeira compra)\n"
   ]
  },
  {
   "cell_type": "markdown",
   "metadata": {
    "id": "C-4-5HH1I7VD"
   },
   "source": [
    "#### 2.1.3.  Array N-dimensional\n",
    "Vamos verificar o tipo dos arrays criados acima!"
   ]
  },
  {
   "cell_type": "code",
   "execution_count": null,
   "metadata": {
    "executionInfo": {
     "elapsed": 21,
     "status": "aborted",
     "timestamp": 1652315863151,
     "user": {
      "displayName": "Vinicius Henrique",
      "userId": "08353724498470769731"
     },
     "user_tz": 180
    },
    "id": "LCgv4mtYI7VD"
   },
   "outputs": [],
   "source": [
    "print(type(np_c_peso))"
   ]
  },
  {
   "cell_type": "markdown",
   "metadata": {
    "id": "ACK51kB7I7VG"
   },
   "source": [
    "**ndarrays** significam arrays N-dimensionais, vamos criar um NumPy array multi-dimensional a partir de listas tradicionais do Python."
   ]
  },
  {
   "cell_type": "code",
   "execution_count": null,
   "metadata": {
    "executionInfo": {
     "elapsed": 21,
     "status": "aborted",
     "timestamp": 1652315863151,
     "user": {
      "displayName": "Vinicius Henrique",
      "userId": "08353724498470769731"
     },
     "user_tz": 180
    },
    "id": "xPyc-WqnI7VG"
   },
   "outputs": [],
   "source": [
    "np_2d = np.array([[1.81, 1.77, 1.69, 1.91],\n",
    "                  [89.0, 77.3, 55.9, 99.4]])\n",
    "np_2d"
   ]
  },
  {
   "cell_type": "markdown",
   "metadata": {
    "id": "pdWHekG8I7VI"
   },
   "source": [
    "Cada sublista da lista corresponde à uma linha da array bi-dimensional criada.\n",
    "Nós podemos verificar o tamanho do array usando o atributo ```shape```."
   ]
  },
  {
   "cell_type": "code",
   "execution_count": null,
   "metadata": {
    "executionInfo": {
     "elapsed": 22,
     "status": "aborted",
     "timestamp": 1652315863152,
     "user": {
      "displayName": "Vinicius Henrique",
      "userId": "08353724498470769731"
     },
     "user_tz": 180
    },
    "id": "NDV2yCBVI7VI"
   },
   "outputs": [],
   "source": [
    "np_2d.shape"
   ]
  },
  {
   "cell_type": "markdown",
   "metadata": {
    "id": "wlRoKTY7I7VK"
   },
   "source": [
    "Podemos ver que o np_2d tem 2 linhas e 4 colunas."
   ]
  },
  {
   "cell_type": "markdown",
   "metadata": {
    "id": "7FwtOqG0I7VK"
   },
   "source": [
    "#### 2.1.4. Selecionando subconjuntos de array bidimensional\n",
    "\n",
    "Assim como o array unidimensional, também podemos selecionar um subconjunto de um array bidimensional, usando o índice da linha e coluna como exemplifica a imagem abaixo.\n",
    "![Subsetting](https://imgur.com/08EIOjy.png)\n",
    "Veja alguns exemplos de como isso é feito."
   ]
  },
  {
   "cell_type": "code",
   "execution_count": null,
   "metadata": {
    "executionInfo": {
     "elapsed": 21,
     "status": "aborted",
     "timestamp": 1652315863152,
     "user": {
      "displayName": "Vinicius Henrique",
      "userId": "08353724498470769731"
     },
     "user_tz": 180
    },
    "id": "wuhs2K0II7VL"
   },
   "outputs": [],
   "source": [
    "# Selecionando a primeira linha\n",
    "np_2d[0]"
   ]
  },
  {
   "cell_type": "code",
   "execution_count": null,
   "metadata": {
    "executionInfo": {
     "elapsed": 22,
     "status": "aborted",
     "timestamp": 1652315863153,
     "user": {
      "displayName": "Vinicius Henrique",
      "userId": "08353724498470769731"
     },
     "user_tz": 180
    },
    "id": "9XQL-bOLI7VN"
   },
   "outputs": [],
   "source": [
    "# Selecionando a altura (primeira linha) do terceiro elemento\n",
    "np_2d[0][2]"
   ]
  },
  {
   "cell_type": "markdown",
   "metadata": {
    "id": "nNYPyUANI7VO"
   },
   "source": [
    "Basicamente nós selecionamos a linha, e a partir daquela linha fazemos outra seleção.\n",
    "\n",
    "Também é possível selecionar utilizando vírgulas dentro de colchetes: ```array[linha, coluna]```"
   ]
  },
  {
   "cell_type": "code",
   "execution_count": null,
   "metadata": {
    "executionInfo": {
     "elapsed": 23,
     "status": "aborted",
     "timestamp": 1652315863154,
     "user": {
      "displayName": "Vinicius Henrique",
      "userId": "08353724498470769731"
     },
     "user_tz": 180
    },
    "id": "JalM9A2EI7VP"
   },
   "outputs": [],
   "source": [
    "# Primeira linha e terceira colna\n",
    "np_2d[0, 2]"
   ]
  },
  {
   "cell_type": "code",
   "execution_count": null,
   "metadata": {
    "executionInfo": {
     "elapsed": 23,
     "status": "aborted",
     "timestamp": 1652315863154,
     "user": {
      "displayName": "Vinicius Henrique",
      "userId": "08353724498470769731"
     },
     "user_tz": 180
    },
    "id": "ksqMjmYEI7VR"
   },
   "outputs": [],
   "source": [
    "# Todas as linhas e segunda e terceira coluna\n",
    "np_2d[:, 1:3] "
   ]
  },
  {
   "cell_type": "markdown",
   "metadata": {
    "id": "WcAa54mqI7VT"
   },
   "source": [
    "#### Exercício 2.2\n",
    "\n",
    "Abaixo temos uma lista de listas contendo informações de vendas de castanhas de uma loja. Cada lista representa uma venda que foi realizada. O primeiro elemento de cada lista é o dia que  venda foi feita, o segundo elemento representa o peso das castanhas compradas. Por fim, o terceiro elemento é a quantia paga pelas castanhas.\n",
    "\n",
    "Com isso em mente, faça os seguintes exercícios:"
   ]
  },
  {
   "cell_type": "code",
   "execution_count": null,
   "metadata": {
    "deletable": false,
    "executionInfo": {
     "elapsed": 24,
     "status": "aborted",
     "timestamp": 1652315863155,
     "user": {
      "displayName": "Vinicius Henrique",
      "userId": "08353724498470769731"
     },
     "user_tz": 180
    },
    "exid": "2.2.1",
    "id": "UjZhdLusI7VU"
   },
   "outputs": [],
   "source": [
    "# Exercício 2.2.1\n",
    "castanha = [[2, 0.946, 66.1], \n",
    "          [2, 0.918, 32.96], \n",
    "          [2, 0.906, 58.76],\n",
    "          [2, 0.904, 29.14], \n",
    "          [2, 0.858, 59.96],\n",
    "          [2, 0.774, 27.77],\n",
    "          [2, 0.652, 42.3],\n",
    "          [2, 0.516, 18.51], \n",
    "          [2, 0.478, 17.15],\n",
    "          [2, 0.404, 28.22], \n",
    "          [2, 0.396, 7.88], \n",
    "          [2, 0.364, 7.24],\n",
    "          [2, 0.342, 22.18], \n",
    "          [2, 0.304, 10.91], \n",
    "          [2, 0.262, 9.41], \n",
    "          [2, 0.208, 4.13],\n",
    "          [2, 0.134, 9.36],\n",
    "          [4, 0.974, 34.95],\n",
    "          [4, 0.792, 51.38],\n",
    "          [4, 0.792, 51.38], \n",
    "          [4, 0.628, 12.48], \n",
    "          [4, 0.552, 19.81], \n",
    "          [4, 0.506, 25], \n",
    "          [4, 0.478, 31], \n",
    "          [4, 0.462, 32.24],\n",
    "          [4, 0.436, 28.28],\n",
    "          [4, 0.408, 14.64],\n",
    "          [4, 0.378, 13.56],\n",
    "          [4, 0.3, 19.46],\n",
    "          [4, 0.298, 10.69],\n",
    "          [4, 0.268, 9.62],\n",
    "          [4, 0.252, 16.34],\n",
    "          [4, 0.16, 3.18],\n",
    "          [4, 0.114, 4.09],\n",
    "          [4, 0.092, 5.97],\n",
    "          [5, 0.936, 65.33],\n",
    "          [5, 0.894, 32.07],\n",
    "          [5, 0.744, 48.28], \n",
    "          [5, 0.706, 25.34],\n",
    "          [5, 0.694, 24.91], \n",
    "          [5, 0.69, 13.72], \n",
    "          [5, 0.652, 42.32], \n",
    "          [5, 0.518, 33.6], \n",
    "          [5, 0.508, 18.23],\n",
    "          [5, 0.502, 35.09],\n",
    "          [5, 0.5, 27.45], \n",
    "          [5, 0.47, 9.35], \n",
    "          [5, 0.44, 28.54],\n",
    "          [5, 0.39, 7.76], \n",
    "          [5, 0.384, 21.08]]\n",
    "\n",
    "# Crie um numpy array 2d (np_castanha) a partir de castanha\n",
    "np_castanha =\n",
    "\n",
    "# Printe o tipo de np_castanha\n",
    "\n",
    "\n",
    "# Printe as dimensões (número de linhas e colunas)\n"
   ]
  },
  {
   "cell_type": "code",
   "execution_count": null,
   "metadata": {
    "deletable": false,
    "executionInfo": {
     "elapsed": 24,
     "status": "aborted",
     "timestamp": 1652315863156,
     "user": {
      "displayName": "Vinicius Henrique",
      "userId": "08353724498470769731"
     },
     "user_tz": 180
    },
    "exid": "2.2.2",
    "id": "SWkISBQDI7VX",
    "scrolled": false
   },
   "outputs": [],
   "source": [
    "# Exercício 2.2.2\n",
    "# Crie um numpy array (np_peso) que corresponde à toda segunda coluna de np_castanha\n",
    "np_peso ="
   ]
  },
  {
   "cell_type": "code",
   "execution_count": null,
   "metadata": {
    "executionInfo": {
     "elapsed": 25,
     "status": "aborted",
     "timestamp": 1652315863157,
     "user": {
      "displayName": "Vinicius Henrique",
      "userId": "08353724498470769731"
     },
     "user_tz": 180
    },
    "id": "PFzZj3zNJqqK"
   },
   "outputs": [],
   "source": [
    "# Exercício 2.2.3\n",
    "# Printe o preço da 14ª (décima quarta) venda\n",
    "\n",
    "\n",
    "# Printe todas as vendas feitas após o dia 2\n"
   ]
  },
  {
   "cell_type": "markdown",
   "metadata": {
    "id": "YIEqkTlVI7VZ"
   },
   "source": [
    "#### 2.1.5. Estatística básica com NumPy\n",
    "Costumeiramente o primeiro passo para analisar nossos dados é conhecê-los através de estatística descritiva. O NumPy pode ser usado para obter essa visão inicial dos dados mesmo com grande quantidade de observações. Nos próximos módulos teremos uma aula dedicada à estatística básica, então não se preocupe se você não entender algum dos conceitos utilizados abaixo.\n",
    "\n",
    "Vamos então usar alguns atributos do NumPy para começar a analisar nossos dados."
   ]
  },
  {
   "cell_type": "code",
   "execution_count": null,
   "metadata": {
    "executionInfo": {
     "elapsed": 26,
     "status": "aborted",
     "timestamp": 1652315863158,
     "user": {
      "displayName": "Vinicius Henrique",
      "userId": "08353724498470769731"
     },
     "user_tz": 180
    },
    "id": "sTkUT6xzI7VZ"
   },
   "outputs": [],
   "source": [
    "np_a_p = np.array([[1.81, 89.0],\n",
    "                  [1.77, 77.3],\n",
    "                  [1.69, 55.9],\n",
    "                  [1.91, 99.4]])\n",
    "\n",
    "# Calculando a média dos pesos\n",
    "np.mean(np_a_p[:, 1])"
   ]
  },
  {
   "cell_type": "code",
   "execution_count": null,
   "metadata": {
    "executionInfo": {
     "elapsed": 26,
     "status": "aborted",
     "timestamp": 1652315863158,
     "user": {
      "displayName": "Vinicius Henrique",
      "userId": "08353724498470769731"
     },
     "user_tz": 180
    },
    "id": "GFAOifpqI7Vc"
   },
   "outputs": [],
   "source": [
    "# calculando a mediana dos pesos\n",
    "np.median(np_a_p[:, 1])"
   ]
  },
  {
   "cell_type": "code",
   "execution_count": null,
   "metadata": {
    "executionInfo": {
     "elapsed": 26,
     "status": "aborted",
     "timestamp": 1652315863159,
     "user": {
      "displayName": "Vinicius Henrique",
      "userId": "08353724498470769731"
     },
     "user_tz": 180
    },
    "id": "Y3z2MNdDI7Vd"
   },
   "outputs": [],
   "source": [
    "# calculando os coeficientes de correlação entre pesos e alturas\n",
    "np.corrcoef(np_a_p[:, 0], np_a_p[:, 1])"
   ]
  },
  {
   "cell_type": "code",
   "execution_count": null,
   "metadata": {
    "executionInfo": {
     "elapsed": 27,
     "status": "aborted",
     "timestamp": 1652315863160,
     "user": {
      "displayName": "Vinicius Henrique",
      "userId": "08353724498470769731"
     },
     "user_tz": 180
    },
    "id": "Dd8HC0onI7Vg"
   },
   "outputs": [],
   "source": [
    "# calculando o desvio padrão dos pesos\n",
    "np.std(np_a_p[:, 1])"
   ]
  },
  {
   "cell_type": "code",
   "execution_count": null,
   "metadata": {
    "executionInfo": {
     "elapsed": 27,
     "status": "aborted",
     "timestamp": 1652315863160,
     "user": {
      "displayName": "Vinicius Henrique",
      "userId": "08353724498470769731"
     },
     "user_tz": 180
    },
    "id": "b2taaZh6I7Vh"
   },
   "outputs": [],
   "source": [
    "# calculando a soma dos pesos\n",
    "np.sum(np_a_p[:, 1])"
   ]
  },
  {
   "cell_type": "markdown",
   "metadata": {
    "id": "DzNkxEpAI7Vj"
   },
   "source": [
    "Alguns desses atributos já estão disponíveis no Python, no entanto, a principal diferença entre eles é a performance. Os atributos do NumPy são mais rápidos na execução do que os básicos do Python."
   ]
  },
  {
   "cell_type": "markdown",
   "metadata": {
    "id": "cv9uSyMSI7Vj"
   },
   "source": [
    "Lembrando que sempre que tiver dificuldade para entender algum atributo, você pode consultar a documentação do [NumPy](https://numpy.org/doc/)."
   ]
  },
  {
   "cell_type": "markdown",
   "metadata": {
    "id": "Pp0AJiz8I7Vk"
   },
   "source": [
    "Agora que aprendemos como o NumPy funciona, vamos aprender sobre uma das bibliotecas mais utilizadas para manipulação de dados em Python, o **Pandas**!"
   ]
  },
  {
   "cell_type": "markdown",
   "metadata": {
    "id": "0jW-2-KjI7Vk"
   },
   "source": [
    "<a name=\"pandas\"></a>\n",
    "## 3. Pandas\n",
    "\n",
    "### 3.1. O que é o Pandas?\n",
    "\n",
    "Pandas é uma biblioteca *open source*, que proporciona estruturas de dados e ferramentas de análise de dados de alta performance e fáceis de usar para Python. Vamos entender melhor o que alguns termos significam:\n",
    " - *open source*: assim como o NumPy, seu código original é disponibilizado livremente e pode ser distribuido e modificado. Isso significa que qualquer um pode contribuir para a evolução do Pandas!\n",
    " - alta performance: Pandas é escrito em Python, Cython e C. Isso permite que os cientistas de dados consigam utilizá-lo para lidar com conjuntos de dados muito grandes (daqueles que o Excel não conseguiria nem abrir) e fazer operações sobre esses dados com facilidade. Dessa forma, Pandas torna nosso trabalho melhor e mais fácil provendo ótima performânce.\n",
    " - estruturas de dados e análises de dados: o motivo pelo qual Pandas existe. Muitas vezes precisamos obter insights de dados crus como documentos de textos, tabelas e etc. Pandas é capaz de lidar com esses tipos de dados para que possamos analisá-los.\n",
    "\n",
    "Em resumo, **Pandas fornece estrutura de dados especializadas e ferramentas para manipulação de dados**. Sua ótima performance, facilidade de uso e comunidade dedicada são as principais razões de sua vasta adoção entre cientistas de dados. \n",
    "\n",
    "Agora vamos começar a utilizá-lo! Se você está utilizando o Anaconda ou o Google Colab, já deve ter ele instalado. Senão, é possível achar os passos de instalação [neste link](https://pandas.pydata.org/). <br>\n",
    "\n",
    "### 3.2. Básico de Pandas\n",
    "\n",
    "Vamos relembrar as etapas da construção de um modelo de dados para entender a importância do Pandas:\n",
    "\n",
    "1. Entendimento do problema / Definição do escopo\n",
    "2. Definição do objetivo e métricas de avaliação\n",
    "3. Determinação dos dados necessários\n",
    "4. Aquisição dos dados\n",
    "5. Tratamento e manipulação dos dados\n",
    "6. Análise Exploratória dos Dados (E.D.A.)\n",
    "7. Engenharia de Variáveis\n",
    "8. Construção e avaliação do modelo\n",
    "9. Interpretação dos resultados e apresentação dos dados\n",
    "10. Deploy\n",
    "11. Monitoramento e manutenção\n",
    "\n",
    "Então, mas em quais etapas o Pandas é mais utilizado? Nas etapas 4 a 7 e 9! Ou seja, das 11 etapas, o Pandas pode nos ajudar em 5 delas! Isso mostra o quão poderosa essa biblioteca é, e porque utilizamos ela diariamente.\n",
    "\n",
    "#### 3.2.1. Como importá-lo?\n",
    "\n",
    "O Pandas é geralmente importado sempre da mesma forma, como mostramos abaixo. Aproveitamos também para importar o NumPy, biblioteca que já apresentamos anteriormente."
   ]
  },
  {
   "cell_type": "code",
   "execution_count": null,
   "metadata": {
    "id": "D3lVTBtPI7Vk"
   },
   "outputs": [],
   "source": [
    "import pandas as pd\n",
    "import numpy as np"
   ]
  },
  {
   "cell_type": "markdown",
   "metadata": {
    "id": "6qKrzYVYI7Vm"
   },
   "source": [
    "#### 3.2.2. Objetos do Pandas\n",
    "\n",
    "Existem 2 principais tipos de objetos no Pandas: as [*Series*](https://pandas.pydata.org/pandas-docs/stable/reference/api/pandas.Series.html#pandas.Series) e os *DataFrames*. As *Series* são sequências de uma dimensão  de elementos (para ser mais específico *ndarray*), todos do mesmo tipo de dados, com rótulos/índices (*labels*). São o objeto primário do Pandas, tudo vai funcionar baseado nelas. Pra criar um objeto do tipo *Series*, podemos fazer o seguinte:"
   ]
  },
  {
   "cell_type": "code",
   "execution_count": null,
   "metadata": {
    "id": "tlrOSdwAI7Vn"
   },
   "outputs": [],
   "source": [
    "s = pd.Series([1, 3, 5, np.nan, 6, 8])\n",
    "s"
   ]
  },
  {
   "cell_type": "markdown",
   "metadata": {
    "id": "XoMUtFTEI7Vp"
   },
   "source": [
    "Podemos ver acima que cada elemento da *Series* tem um rótulo relacionado. Esses rótulos podem ser tanto numéricos quanto de texto! Ao final do objeto temos a informação sobre o tipo de dados da *Series*: nesse caso, números *float64*. <br>\n",
    "O outro objeto principal do Pandas é o [*DataFrame*](https://pandas.pydata.org/pandas-docs/stable/reference/api/pandas.DataFrame.html#pandas.DataFrame), que é basicamente uma coleção de *Series* com rótulos em comum. O *DataFrame* é bem parecido com uma tabela de Excel, com seus índices e colunas. Tanto suas linhas quanto suas colunas tem rótulos, nos permitindo acessar qualquer célula pela sua coordenada. Há diversas formas de criar um *DataFrame*, vamos começar com o mais simples:"
   ]
  },
  {
   "cell_type": "code",
   "execution_count": null,
   "metadata": {
    "id": "vNO6qyIfI7Vq"
   },
   "outputs": [],
   "source": [
    "dates = pd.date_range('20210101', periods=6) #estamos criando uma lista de datas entre 01/01/2021 e 06/01/2021. Note que estamos usando uma função do Pandas\n",
    "df = pd.DataFrame(\n",
    "    np.random.randn(6, 4), #apenas números aleatórios nas células\n",
    "    index=dates,  #especificando quais são os índices. Eles aceitam até datas como índice! Isso é muito bom para lidar com dados de séries temporais\n",
    "    columns=list('ABCD')) #especificando como quero que sejam os nomes das colunas, passando uma lista de letras\n",
    "df"
   ]
  },
  {
   "cell_type": "markdown",
   "metadata": {
    "id": "KCFQaOxrI7Vs"
   },
   "source": [
    "Isso é um *DataFrame*! Uma coisa boa do Pandas com o Jupyter Notebook é que eles mostram o *DataFrame* de uma forma bastante amigável. Agora que sabemos sobre as duas principais estruturas de dados do Pandas, podemos aprender sobre os principais métodos e funcionalidades dessa biblioteca, e para isso vamos utilizar dados reais sobre uma das marcas mais conhecidas dos desenhos e videogames, a franquia Pokémon :)\n",
    "\n",
    "Observação: um *DataFrame* pode ser visto como um dicionário de listas.\n",
    "\n",
    "#### 3.2.3. Carregando o conjunto de dados\n",
    "\n",
    "Um dos tipos de dados mais comuns para se guardar arquivos são os CSVs (comma-separated values, em português, valores separados por vírgulas). O Pandas tem diversas funções para transformar os mais variados tipos de arquivos em *DataFrames*, como csv, Excel, json e etc. Nesse exemplo, vamos usar o [leitor de csv](https://pandas.pydata.org/pandas-docs/stable/reference/api/pandas.read_csv.html). Execute a célula abaixo para carregar os dados dos Pokémons.\n",
    "\n",
    "Caso você não conheça, [Pokémon](https://www.pokemon.com/us/) é uma franquia japonesa composta por jogos de videogame, desenhos, cartas colecionáveis, entre outros produtos. Nos jogos, principal produto da franquia, os humanos (conhecidos como treinadores Pokémon) capturam e treinam os monstrinhos (Pokémons) para realizar diversas aventuras e batalhas. Cada Pokémon pode ser de diferentes tipos (fogo, água, elétrico, pedra, etc) e apresentam diferentes níveis de habilidades (ataque, defesa, velocidade, etc). Além disso, alguns Pokémons são mais raros que outros (conhecidos como lendários).\n",
    "\n",
    "Caso você esteja utilizando o Google Colab, não se esqueça de conectar no seu Drive e alterar o caminho para a pasta que contém seus arquivos de dados."
   ]
  },
  {
   "cell_type": "code",
   "execution_count": null,
   "metadata": {
    "id": "cM-UjmFTI7Vs"
   },
   "outputs": [],
   "source": [
    "pkmn = pd.read_csv(\n",
    "    'pokemon_data.csv', #o caminho para o arquivo que se quer ler\n",
    "    sep=',') #o caracter utilizado para separar os valores"
   ]
  },
  {
   "cell_type": "markdown",
   "metadata": {
    "id": "LQCKYMjYI7Vu"
   },
   "source": [
    "#### 3.2.4. Visualizações iniciais\n",
    "Ótimo! Acabamos de criar um *DataFrame* a partir de um arquivo csv. Mas como gostamos de verificar as coisas, seria interessante saber algumas informações como: o que os dados contêm, como são as colunas, se tem valores nulos e etc. O Pandas tem 4 métodos principais para isso:"
   ]
  },
  {
   "cell_type": "code",
   "execution_count": null,
   "metadata": {
    "id": "0H8TyInJI7Vu"
   },
   "outputs": [],
   "source": [
    "pkmn.info()"
   ]
  },
  {
   "cell_type": "markdown",
   "metadata": {
    "id": "jSWYqoxFI7Vw"
   },
   "source": [
    "A primeira coisa que é interessante de se fazer após ler um conjunto de dados em um *DataFrame* é utilizar o método *info()*. Ele mostra informações como:\n",
    " - a classe do objeto criado\n",
    " - o intervalo do índice e quantas linhas de dados se tem\n",
    " - as colunas, seus nomes e tipos de dados\n",
    " - quais os tipos de dados presentes no *DataFrame* e quantas colunas de cada\n",
    " - a quantidade de memória utilizada pelo computador para guardar esses dados\n",
    "\n",
    "Podemos ver que temos uma base sobre Pokémon, com 800 linhas com índices númericos de 0 a 799, 13 colunas de três tipos de dados diferentes, usando cerca de ~76kB de memória RAM. As informações presentes sobre os Pokémons são o número, o nome, o tipo (alguns tem subtipo, mas não todos, por isso os dados faltantes na coluna *Type 2*), estatísticas de ataque, defesa e velocidade, a geração (novos Pokémons são apresentados a cada alguns anos, e cada grupo é conhecido por uma geração) e a indicação se ele é lendário (como uma espécie mística). <br> Todas essas informações a gente conseguiu descobrir com apenas uma linha de código! Vamos então ver como o *DataFrame* realmente é. Temos dois métodos para isso:"
   ]
  },
  {
   "cell_type": "code",
   "execution_count": null,
   "metadata": {
    "id": "Ly2u3gbBI7Vw"
   },
   "outputs": [],
   "source": [
    "pkmn.head()"
   ]
  },
  {
   "cell_type": "code",
   "execution_count": null,
   "metadata": {
    "id": "LFDpCiTlI7Vz"
   },
   "outputs": [],
   "source": [
    "pkmn.tail()"
   ]
  },
  {
   "cell_type": "markdown",
   "metadata": {
    "id": "3jMRnRWEI7V2"
   },
   "source": [
    "Os métodos *.head()* e *.tail()* mostram, respectivamente, as primeiras e últimas *n* linhas do *DataFrame* (por padrão, *n*=5, mas você pode passar qualquer número como parâmetro) mostrando os índices e os nomes das colunas como numa tabela."
   ]
  },
  {
   "cell_type": "code",
   "execution_count": null,
   "metadata": {
    "id": "snLGHsfkI7V2"
   },
   "outputs": [],
   "source": [
    "pkmn.describe()"
   ]
  },
  {
   "cell_type": "markdown",
   "metadata": {
    "id": "F6pyg9YmI7V4"
   },
   "source": [
    "Por fim, o método *.describe()* na sua forma padrão mostra um resumo estatístico de todas as colunas numéricas. É um método bom para ter uma ideia inicial sobre o que ocorre nas colunas de uma perspectiva estatística.\n",
    "\n",
    "#### Exercício 3.1\n",
    "Use o arquivo de jogadores do FIFA Ultimate Team para os exercícios de Pandas. Caso você não conheça, o Ultimate Team (FUT) é um modo de jogo do FIFA (um jogo de simulador de futebol) onde você monta seu próprio time comprando jogadores do jogo. Cada jogador pode apresentar diferentes níveis de habilidade em algumas características, como \"drible\", \"chute\", \"passe\", entre outras.  <br>\n",
    "Substitua os \\____ abaixo para ler o arquivo e siga as instruções para ter as visualizações iniciais."
   ]
  },
  {
   "cell_type": "code",
   "execution_count": null,
   "metadata": {
    "id": "K1xcUEs4I7V6"
   },
   "outputs": [],
   "source": [
    "# Exercício 3.1.1\n",
    "# leia o arquivo (tente abrir num editor de texto antes para verificar o separador)\n",
    "fut_players = ____\n",
    "\n",
    "# mostre as primeiras 10 linhas de dados\n",
    "fut_players.____"
   ]
  },
  {
   "cell_type": "code",
   "execution_count": null,
   "metadata": {
    "id": "nH2ejCchI7V8"
   },
   "outputs": [],
   "source": [
    "# Exercício 3.1.2\n",
    "# mostre as últimas 10 linhas de dados\n",
    "fut_players.____"
   ]
  },
  {
   "cell_type": "code",
   "execution_count": null,
   "metadata": {
    "id": "nel6P37gI7V-"
   },
   "outputs": [],
   "source": [
    "# Exercício 3.1.3\n",
    "# use o método .info() no DataFrame\n",
    "fut_players.____"
   ]
  },
  {
   "cell_type": "code",
   "execution_count": null,
   "metadata": {
    "id": "YgWsp0FAI7WA"
   },
   "outputs": [],
   "source": [
    "# Exercício 3.1.4\n",
    "# mostre o resumo estatístico das colunas numéricas\n",
    "fut_players.____"
   ]
  },
  {
   "cell_type": "markdown",
   "metadata": {
    "id": "2QTzo2U5I7WB"
   },
   "source": [
    "### 3.3. Filtrando (*Filtering*) e fatiando (*slicing*) os dados\n",
    "\n",
    "*Filtering* e *slicing* são técnicas utilizadas para isolar partes específicas do *DataFrame*, sejam linhas, colunas ou células. Isso é muito útil pois diversas vezes queremos analisar alguns dados ao invés da base inteira. O Pandas tem ferramentas próprias para isso. <br>\n",
    "\n",
    "#### 3.3.1. *Slicing*\n",
    "\n",
    "No Pandas existem duas principais formas de fatiar os dados, isto é, selecionar apenas uma parte de acordo com as linhas e colunas do *DataFrame*: utilizando o nome das partes ou com os métodos *.loc()* e *.iloc()*. Vamos começar pelo primeiro. Para fazer isso, imagine que queremos apenas os nomes e o poder de ataque dos Pokémons e veja o exemplo:"
   ]
  },
  {
   "cell_type": "code",
   "execution_count": null,
   "metadata": {
    "id": "46uivHZcI7WC"
   },
   "outputs": [],
   "source": [
    "pkmn[['Name','Attack']].head(7)"
   ]
  },
  {
   "cell_type": "markdown",
   "metadata": {
    "id": "a2t9ZGA9I7WF"
   },
   "source": [
    "Duas coisas importantes aqui:\n",
    " - Juntamos o *slicing* com o método *.head()* na mesma linha, para que fosse possível ver o resultado do fatiamento. Ao usar o Pandas é possível e comum fazer esse tipo de agrupamento de operações.\n",
    " - Foram utilizadas chaves duplas ```[[]]``` no fatiamento. Ao fazer isso, estou explicitando que quero um objeto do tipo *DataFrame*. Se eu quisesse objetos do tipo *Series* usaria chaves simples. Podemos ver um exemplo disso abaixo:"
   ]
  },
  {
   "cell_type": "code",
   "execution_count": null,
   "metadata": {
    "id": "4Ml4LWZJI7WF"
   },
   "outputs": [],
   "source": [
    "type(pkmn[['Name']])"
   ]
  },
  {
   "cell_type": "code",
   "execution_count": null,
   "metadata": {
    "id": "NVLgmH7lI7WI"
   },
   "outputs": [],
   "source": [
    "type(pkmn['Name'])"
   ]
  },
  {
   "cell_type": "markdown",
   "metadata": {
    "id": "PqRmLi4HI7WL"
   },
   "source": [
    "Outra forma de se obter um objeto do tipo *Series* é passando a coluna como se fosse um atributo do *DataFrame*:"
   ]
  },
  {
   "cell_type": "code",
   "execution_count": null,
   "metadata": {
    "id": "_GYbEpLNI7WM"
   },
   "outputs": [],
   "source": [
    "pkmn.Name"
   ]
  },
  {
   "cell_type": "markdown",
   "metadata": {
    "id": "vWKI_99GI7WN"
   },
   "source": [
    "O único problema desse formato é que colunas cujo nome contém espaços não funcionarão, como é o caso das colunas *Type 1*, *Type 2*, *Sp. Atk* e *Sp. Def*. Para resolver isso, vamos renomeá-las com o método *.rename()*."
   ]
  },
  {
   "cell_type": "code",
   "execution_count": null,
   "metadata": {
    "id": "Qnf5uL5wI7WO"
   },
   "outputs": [],
   "source": [
    "pkmn.rename(\n",
    "    columns={'Type 1':'Type_1', 'Type 2':'Type_2', 'Sp. Atk':'Sp_Atk','Sp. Def':'Sp_Def'}, #passando o nome antigo e novo como um dicionário\n",
    "    inplace = True #algumas operações com Pandas criam uma cópia do DataFrame e não alteram o objeto em si, alteramos isso mudando o parâmetro inplace para verdadeiro\n",
    ")"
   ]
  },
  {
   "cell_type": "code",
   "execution_count": null,
   "metadata": {
    "id": "lnAsbq4xI7WQ"
   },
   "outputs": [],
   "source": [
    "pkmn.info()"
   ]
  },
  {
   "cell_type": "markdown",
   "metadata": {
    "id": "O45xA1XHJqqb"
   },
   "source": [
    "Agora que os nomes foram trocados, podemos obter um objeto *Series* do tipo do Pokémon como a seguir:"
   ]
  },
  {
   "cell_type": "code",
   "execution_count": null,
   "metadata": {
    "id": "O5p0Jw0mJqqc"
   },
   "outputs": [],
   "source": [
    "pkmn.Type_1"
   ]
  },
  {
   "cell_type": "markdown",
   "metadata": {
    "id": "R281vnHrI7WV"
   },
   "source": [
    "Outra forma de selecionar partes dos dados é usando os métodos *.loc()* e *.iloc()*.<br>\n",
    "Para usar a localização númerica utilizamos o *iloc*. Como você pode imaginar, a linhas e colunas são ordenadas por números inteiros sequenciais, começando do 0, como nas listas. Dessa forma, se você sabe o número da linha e da coluna, você pode usar o *iloc*. Por exemplo, se quisermos a coluna HP, que é a 6ª, poderíamos fazer o seguinte:"
   ]
  },
  {
   "cell_type": "code",
   "execution_count": null,
   "metadata": {
    "id": "OU3QcQiZI7WV"
   },
   "outputs": [],
   "source": [
    "pkmn.iloc[:,5].head()"
   ]
  },
  {
   "cell_type": "markdown",
   "metadata": {
    "id": "76glpCfwI7WX"
   },
   "source": [
    "A sintaxe do *iloc* é como [x,y], que significa que queremos a (x+1)ª linha e (y+1)ª coluna. Se utilizarmos ```:``` no lugar de x ou y significa que queremos a coluna ou linha completa, respectivamente. Vamos pegar o HP do Bulbasaur, o primeiro Pokémon do nosso *DataFrame*:"
   ]
  },
  {
   "cell_type": "code",
   "execution_count": null,
   "metadata": {
    "id": "Xsk3EutuI7WX"
   },
   "outputs": [],
   "source": [
    "print(\"O HP do Bulbasaur é \"+str(pkmn.iloc[0,5]))"
   ]
  },
  {
   "cell_type": "markdown",
   "metadata": {
    "id": "IGy5jCcgI7Wa"
   },
   "source": [
    "O método *.loc()* usa o rótulo para acessar os valores. Dessa forma, ao invés de passarmos as coordenadas numéricas, passamos o nome da linha e da coluna, como a seguir:"
   ]
  },
  {
   "cell_type": "code",
   "execution_count": null,
   "metadata": {
    "id": "JcQV_oi3I7Wb"
   },
   "outputs": [],
   "source": [
    "pkmn.loc[0, :]"
   ]
  },
  {
   "cell_type": "markdown",
   "metadata": {
    "id": "nu5OJQgOI7Wc"
   },
   "source": [
    "No caso, os rótulos das linhas são iguais às suas coordenadas, por isso ficou parecido com o *iloc*. Vamos fazer o teste com as colunas também para ver a diferença. Abaixo pegaremos novamente o HP do Bulbasaur:"
   ]
  },
  {
   "cell_type": "code",
   "execution_count": null,
   "metadata": {
    "id": "4jMGO5ACI7Wc"
   },
   "outputs": [],
   "source": [
    "print(\"O HP do Bulbasaur é \"+str(pkmn.loc[0,'HP']))"
   ]
  },
  {
   "cell_type": "markdown",
   "metadata": {
    "id": "wzRDpdWNI7We"
   },
   "source": [
    "#### 3.3.2. Filtros (*Filtering*)\n",
    "\n",
    "Uma vez sabendo isolar partes do *DataFrame* de acordo com a localização dos dados, podemos partir para isolar de acordo com condições, ou seja, filtrar os dados.\n",
    "Para conseguir fazer isso no Pandas, fazemos o seguinte: passamos uma expressão condicional e o Pandas retorna apenas as partes que teriam a condição como verdade. Para testar isso, vamos ver a defesa média de todos os Pokémons e depois ver se os tipos 'Rock' e 'Steel' têm defesas maiores:"
   ]
  },
  {
   "cell_type": "code",
   "execution_count": null,
   "metadata": {
    "id": "t9BIt7O7I7We"
   },
   "outputs": [],
   "source": [
    "pkmn.Defense.mean() #note que operações comuns como média (mean), mediana (median) e soma (sum) são métodos do Pandas"
   ]
  },
  {
   "cell_type": "code",
   "execution_count": null,
   "metadata": {
    "id": "CvNMdewfJqqk"
   },
   "outputs": [],
   "source": [
    "pkmn.loc[pkmn.Type_1=='Rock'].Defense.mean()"
   ]
  },
  {
   "cell_type": "code",
   "execution_count": null,
   "metadata": {
    "id": "Kf_EPtttJqqk"
   },
   "outputs": [],
   "source": [
    "pkmn[pkmn.Type_1=='Steel'].Defense.mean()"
   ]
  },
  {
   "cell_type": "markdown",
   "metadata": {
    "id": "DQ3SSloPI7Wj"
   },
   "source": [
    "De fato, parece que os tipos selecionados tem média acima dos demais Pokémons. Para verificar isso, passamos a condição pkmn.Type_1=='Steel' entre chaves, o que retorna apenas as linhas de tal tipo. Com isso, selecionamos apenas a coluna de defesa e calculamos a média. <br>\n",
    "Vamos ver agora os Pokémons com defesa maior que 150, cujo tipo principal não é 'Rock' nem 'Steel':"
   ]
  },
  {
   "cell_type": "code",
   "execution_count": null,
   "metadata": {
    "id": "gZssFNJSI7Wj"
   },
   "outputs": [],
   "source": [
    "pkmn[(pkmn.Defense > 150)&(pkmn.Type_1!='Rock')&(pkmn.Type_1!='Steel')]"
   ]
  },
  {
   "cell_type": "markdown",
   "metadata": {
    "id": "U0yWxF1MI7Wl"
   },
   "source": [
    "Podemos ver acima que é possível juntar condições com os operadores E (&) e OU (|).<br>\n",
    "Vamos dizer agora que você quer apenas alguns Pokémons em específico, por exemplo Venusaur, Charizard e Blastoise. Criar uma condição para cada e uní-las com o operador & pode ser difícil, ainda mais se for uma quantidade grande de opções. Podemos facilitar isso passando uma tupla ao método *.isin()*, como abaixo:"
   ]
  },
  {
   "cell_type": "code",
   "execution_count": null,
   "metadata": {
    "id": "1hZmFFpNI7Wl"
   },
   "outputs": [],
   "source": [
    "aux = ('Venusaur', 'Charizard', 'Blastoise')\n",
    "pkmn[pkmn.Name.isin(aux)]"
   ]
  },
  {
   "cell_type": "markdown",
   "metadata": {
    "id": "9xqpu5WPI7Wm"
   },
   "source": [
    "Finalmente, podemos criar novos *DataFrames* a partir de um já existente selecionando apenas algumas linhas ou colunas dele:"
   ]
  },
  {
   "cell_type": "code",
   "execution_count": null,
   "metadata": {
    "id": "gTkyAPJ3I7Wn"
   },
   "outputs": [],
   "source": [
    "offensive_stats = pkmn[['#','Name','Attack','Sp_Atk','Speed']] #selecionando apenas estatísticas ofensivas\n",
    "defensive_stats = pkmn[['#','Name', 'HP','Defense','Sp_Def']] #selecionando apenas estatísticas defensivas"
   ]
  },
  {
   "cell_type": "code",
   "execution_count": null,
   "metadata": {
    "id": "Eya67aYTI7Wo"
   },
   "outputs": [],
   "source": [
    "offensive_stats.head()"
   ]
  },
  {
   "cell_type": "code",
   "execution_count": null,
   "metadata": {
    "id": "S9VDvgW8I7Wp"
   },
   "outputs": [],
   "source": [
    "defensive_stats.head()"
   ]
  },
  {
   "cell_type": "code",
   "execution_count": null,
   "metadata": {
    "id": "Bnidkhc7I7Wq"
   },
   "outputs": [],
   "source": [
    "fire_pkmn = pkmn[(pkmn.Type_1=='Fire')|(pkmn.Type_2=='Fire')] #filtrando apenas linhas com algumas condições\n",
    "fire_pkmn.head()"
   ]
  },
  {
   "cell_type": "code",
   "execution_count": null,
   "metadata": {
    "id": "X5mYCPdtI7Ws"
   },
   "outputs": [],
   "source": [
    "water_pkmn = pkmn[(pkmn.Type_1=='Water')|(pkmn.Type_2=='Water')] #filtrando apenas linhas com algumas condições\n",
    "water_pkmn.head()"
   ]
  },
  {
   "cell_type": "markdown",
   "metadata": {
    "id": "_vXlgfodI7Wu"
   },
   "source": [
    "#### Exercício 3.2\n",
    "Siga as instruções e substitua os \\____ para exercitar o que aprendemos."
   ]
  },
  {
   "cell_type": "code",
   "execution_count": null,
   "metadata": {
    "id": "QEfZ-5seI7Wu",
    "scrolled": false
   },
   "outputs": [],
   "source": [
    "# Exercício 3.2.1\n",
    "# mostre as 5 primeiras linhas das colunas player_name, position e nationality\n",
    "fut_players[[____]].____"
   ]
  },
  {
   "cell_type": "code",
   "execution_count": null,
   "metadata": {
    "deletable": false,
    "exid": "3.2.2",
    "id": "aukfkphDI7Wx",
    "scrolled": true
   },
   "outputs": [],
   "source": [
    "# Exercício 3.2.2\n",
    "#renomeie as colunas player_id, player_name e player_extended_name para id, name e extended_name, respectivamente\n",
    "fut_players.rename(\n",
    "    columns={____, ____, ____},\n",
    "    inplace = True\n",
    ")\n",
    "\n",
    "fut_players.info()"
   ]
  },
  {
   "cell_type": "code",
   "execution_count": null,
   "metadata": {
    "deletable": false,
    "exid": "3.2.3",
    "id": "ZMmFGoPmI7Wy",
    "scrolled": false
   },
   "outputs": [],
   "source": [
    "# Exercício 3.2.3\n",
    "#imprima a coluna extended_name do 4534º jogador (atenção: não queremos o jogador de id = 4534) usando loc e iloc\n",
    "print(fut_players.iloc____)\n",
    "print(fut_players.loc____)"
   ]
  },
  {
   "cell_type": "code",
   "execution_count": null,
   "metadata": {
    "deletable": false,
    "exid": "3.2.4",
    "id": "vxQnswwwI7W0",
    "scrolled": false
   },
   "outputs": [],
   "source": [
    "# Exercício 3.2.4\n",
    "#nosso DataFrame tem muitas colunas\n",
    "#crie outro DataFrame (fut_players_2) apenas com as colunas na lista abaixo\n",
    "selected_columns = ['id', 'name', 'overall', 'nationality', 'position', 'pref_foot', 'base_id']\n",
    "\n",
    "fut_players_2 = ____\n",
    "\n",
    "fut_players_2.info()"
   ]
  },
  {
   "cell_type": "code",
   "execution_count": null,
   "metadata": {
    "deletable": false,
    "exid": "3.2.5",
    "id": "P9qX4qAmI7W2",
    "scrolled": false
   },
   "outputs": [],
   "source": [
    "# Exercício 3.2.5\n",
    "#queremos ver os melhores jogadores nascidos no Brasil (Brazil), isto é, aqueles com médio (overall) acima de 90\n",
    "#mostre os 15 primeiros\n",
    "aux_1 = fut_players_2[____]\n",
    "aux_1.head(15)"
   ]
  },
  {
   "cell_type": "code",
   "execution_count": null,
   "metadata": {
    "deletable": false,
    "exid": "3.2.6",
    "id": "mlSiit9ZI7W5",
    "scrolled": false
   },
   "outputs": [],
   "source": [
    "# Exercício 3.2.6\n",
    "#vários jogadores bons!\n",
    "#agora mostre os jogadores brasileiros que sejam canhotos (pref_foot é Left) ou brasileiros que sejam goleiros (position é GK)\n",
    "aux_2 = fut_players_2[____]\n",
    "aux_2.head(20)"
   ]
  },
  {
   "cell_type": "markdown",
   "metadata": {
    "id": "MOgvn0beI7W7"
   },
   "source": [
    "### 3.4. Juntando DataFrames\n",
    "\n",
    "É muito comum ter a necessidade de juntar *DataFrames* diferentes. Se você já utilizou SQL ou qualquer outro banco de dados relacional, deve conhecer isso como *join*. O Pandas também tem a mesma função utilizando o método *.merge()*. Antes do exemplo, vamos aprender/relembrar os tipos de *joins* mais comuns:<br>\n",
    "![Joining Methods](https://i.imgur.com/HaSBT91.jpg) <br>\n",
    "Agora, vamos carregar um DataFrame mais simples para testar os tipos de *merge*."
   ]
  },
  {
   "cell_type": "code",
   "execution_count": null,
   "metadata": {
    "id": "ryO2xCdKquqx",
    "scrolled": true
   },
   "outputs": [],
   "source": [
    "#Execute esta célula para carregar o dataframe metal_bands com dados de bandas de metal\n",
    "metal_bands = pd.read_csv('metal_bands.csv', encoding='latin')\n",
    "metal_bands.info()\n",
    "metal_bands.head()"
   ]
  },
  {
   "cell_type": "markdown",
   "metadata": {
    "id": "6XE87DCrquqx"
   },
   "source": [
    "Assim como criamos os dataframes *offensive_stats*, *defensive_stats*, *fire_pkmn* e *water_pkmn*, vamos separar alguns dataframes a partir de *metal_bands* para testar os merges. Observe a célula abaixo."
   ]
  },
  {
   "cell_type": "code",
   "execution_count": null,
   "metadata": {
    "id": "_3S4FBXrquqy"
   },
   "outputs": [],
   "source": [
    "bands_origin = metal_bands[['id','band_name','formed','origin']] #ano de formação e país das bandas\n",
    "bands_style = metal_bands[['id','band_name','style']] #estilo das bandas\n",
    "\n",
    "bands_split = metal_bands[metal_bands['split']!='-'][['id','band_name','split']] #bandas que se separaram\n",
    "bands_4000_fans = metal_bands[metal_bands['fans']>4000][['id','band_name','fans']] #bandas com mais de 4000 fans\n",
    "bands_USA = metal_bands[metal_bands['origin']=='USA'][['id','band_name','formed','origin']] #bandas formadas nos EUA\n",
    "bands_Sweden = metal_bands[metal_bands['origin']=='Sweden'][['id','band_name','formed','origin']] #bandas formadas na Suécia"
   ]
  },
  {
   "cell_type": "markdown",
   "metadata": {
    "id": "6tUq5abEquqy"
   },
   "source": [
    "Vamos criar um DataFrame a partir de ```bands_origin``` e ```bands_split```, utilizando *merge*."
   ]
  },
  {
   "cell_type": "code",
   "execution_count": null,
   "metadata": {
    "id": "nmgFpnEsquqy"
   },
   "outputs": [],
   "source": [
    "origin_split = pd.merge(\n",
    "    bands_origin, #o DataFrame da esquerda\n",
    "    bands_split, #o DataFrame da direita\n",
    "    how='inner', #o tipo de join que queremos fazer\n",
    "    on='id') #baseado em quais valores em comum (chave)\n",
    "origin_split.info()\n",
    "origin_split.head()"
   ]
  },
  {
   "cell_type": "markdown",
   "metadata": {
    "id": "TXelXxnOquqy"
   },
   "source": [
    "Ótimo! Conseguimos fazer o *merge* (termo mais utilizado no Pandas) de dois *DataFrames*. Observe que utilizamos o argumento ```how='inner'```. Lembre-se que *inner*, *left*, *right* e *outer* terão resultados diferentes, observe os merges abaixo e a explicação ao final."
   ]
  },
  {
   "cell_type": "code",
   "execution_count": null,
   "metadata": {
    "id": "9nBGgKUJquqy"
   },
   "outputs": [],
   "source": [
    "left_origin_split = pd.merge(bands_origin, bands_split, how='left', on='id')\n",
    "left_origin_split.info()"
   ]
  },
  {
   "cell_type": "code",
   "execution_count": null,
   "metadata": {
    "id": "fEhUuDkRquqy"
   },
   "outputs": [],
   "source": [
    "right_origin_split = pd.merge(bands_origin, bands_split, how='right', on='id')\n",
    "right_origin_split.info()"
   ]
  },
  {
   "cell_type": "code",
   "execution_count": null,
   "metadata": {
    "id": "JNwHwX3Aquqy"
   },
   "outputs": [],
   "source": [
    "print('Numero de linhas do DataFrame bands_4000_fans:', bands_4000_fans.shape[0])\n",
    "print('Numero de linhas do DataFrame bands_USA:', bands_USA.shape[0])\n",
    "print('----------------------------------------------')\n",
    "outer_origin_split = pd.merge(bands_4000_fans, bands_USA, how='outer', on='id')\n",
    "outer_origin_split.info()"
   ]
  },
  {
   "cell_type": "markdown",
   "metadata": {
    "id": "LqUr12oXquqz"
   },
   "source": [
    "Como podemos ver com o resultado do método *.info()*, os resultados são de fato bem diferentes.\n",
    "\n",
    "O *inner* mantém apenas os dados das bandas encontradas nos dois dataframes (onde há correspondência de *id*), dessa forma, a posição do dataframe não faz diferença.\n",
    "\n",
    "No *left*, mantemos os dados do dataframe à esquerda, e trazemos os dados do dataframe à direita no qual encontrou-se a chave (neste exemplo, o *id* da banda).\n",
    "\n",
    "Por outro lado, no *right* ocorre o contrário, mantemos os dados do dataframe à direita e, quando há correspondência da chave, trazemos os dados do dataframe à esquerda. Note que o número de entradas (*entries*) é diferente do caso com o *left*. Isso ocorre porque no *left* mantemos os dados de formação das bandas (ou seja, o dataframe contém todas as bandas do .csv), enquanto no *right*, mantemos apenas os dados de bandas que se separaram (e existem muitas bandas que ainda continuam juntas).\n",
    "\n",
    "Por fim, no *outer* utilizamos dois dataframes diferentes dos anteriores para facilitar o entendimento. Observe pelos prints que existem apenas 4 bandas com mais de 4000 fans e 1139 bandas formadas nos EUA. Quando fazemos o *merge* com *outer*, observe que o total de linhas passa a ser 1143. O que acontece é que esse tipo de join mantém os dados de ambos os dataframes, independente se houve correspondência de chave ou não.\n",
    "\n",
    "Podemos também querer apenas concatenar dois *DataDrames*, isto é, juntá-los colocando um abaixo ou ao lado do outro. Para isso, utilizamos o método *.concat()*:"
   ]
  },
  {
   "cell_type": "code",
   "execution_count": null,
   "metadata": {
    "id": "Rq1Yf9Pxquqz"
   },
   "outputs": [],
   "source": [
    "USA_Sweden = pd.concat([bands_USA, bands_Sweden], ignore_index=True) #concatenando bandas formadas nos EUA e bandas formadas na Suécia\n",
    "USA_Sweden.info()"
   ]
  },
  {
   "cell_type": "markdown",
   "metadata": {
    "id": "qIZ2uxCfI7XI"
   },
   "source": [
    "Acima fizemos a concatenação vertical. Vamos fazer a horizontal abaixo:"
   ]
  },
  {
   "cell_type": "code",
   "execution_count": null,
   "metadata": {
    "id": "wM-nle7fquqz"
   },
   "outputs": [],
   "source": [
    "bands_origin_style = pd.concat([bands_origin, bands_style], axis=1)\n",
    "bands_origin_style.info()"
   ]
  },
  {
   "cell_type": "markdown",
   "metadata": {
    "id": "fWrZbAI-vNC-"
   },
   "source": [
    "Você deve estar se perguntando: mas então qual a diferença entre utilizar o *merge* e o *concat* com axis=1 (concatenação horizontal)? Observe a imagem abaixo.\n",
    "![concat](https://i.imgur.com/YlmiwsR.png) <br>\n",
    "\n",
    "Note que o *concat* recebe os dataframes e apenas os empilha (verticalmente ou horizontalmente). Observe agora o funcionamento do *merge* na imagem abaixo.\n",
    "![merge](https://i.imgur.com/yGum2id.png) <br>\n",
    "\n",
    "Com o *merge*, podemos combinar os dataframes de acordo com os valores de suas colunas. Passamos a coluna a ser utilizada como chave, e os valores serão apenas combinados caso haja correspondência nos dois dataframes."
   ]
  },
  {
   "cell_type": "markdown",
   "metadata": {
    "id": "tzPsK8TDI7XK"
   },
   "source": [
    "#### Exercício 3.3\n",
    "Mais uma vez, substitua os \\____ de acordo com as instruções"
   ]
  },
  {
   "cell_type": "code",
   "execution_count": null,
   "metadata": {
    "deletable": false,
    "exid": "3.3",
    "id": "R8HLaE17I7XK"
   },
   "outputs": [],
   "source": [
    "#the_best é um DataDrame dos melhores jogadores em drible (dribbling) e chute (shooting)\n",
    "the_best = fut_players[(fut_players.dribbling > 90) & (fut_players.shooting > 90)][['id', 'name', 'position', 'dribbling', 'shooting', 'overall']]\n",
    "\n",
    "#nationalities é um DataDrame da nacionalidade dos jogadores\n",
    "nationalities = fut_players[['id', 'name', 'nationality']]\n",
    "\n",
    "#faça um merge dos dois DataDrames, mantendo todos os jogadores de the_best e obtendo suas nacionalidades (dica: a chave é o id)\n",
    "the_best_nationality = ____\n",
    "the_best_nationality.head()"
   ]
  },
  {
   "cell_type": "markdown",
   "metadata": {
    "id": "QBYGj098Jqqt"
   },
   "source": [
    "### 3.5. Alterando o dataframe\n",
    "\n",
    "Até o momento apenas utilizamos os dados da forma que nos foram fornecidos, mas e se precisássemos criar alguma coluna que fosse a combinação das demais? Por exemplo, caso eu deseje criar uma coluna que corresponde à soma do ataque e velocidade dos Pokémons? Observe abaixo:"
   ]
  },
  {
   "cell_type": "code",
   "execution_count": null,
   "metadata": {
    "id": "7Vol_9nSJqqt"
   },
   "outputs": [],
   "source": [
    "#Criando a coluna desejada\n",
    "pkmn['Sum_Attack_Speed'] = pkmn['Attack'] + pkmn['Speed']\n",
    "pkmn.head()"
   ]
  },
  {
   "cell_type": "markdown",
   "metadata": {
    "id": "kKj3aVaJJqqt"
   },
   "source": [
    "Observe como foi fácil! Apenas utilizamos o operador de soma com as duas colunas necessárias. Você pode fazer isso com outras operações também, basta utilizar ```-```, ```/``` ou ```*```. Além disso, você pode combinar quantas colunas quiser!\n",
    "\n",
    "Mas e se precisarmos alterar apenas algumas linhas do nosso DataFrame?\n",
    "\n",
    "Por exemplo, suponha que você percebeu que seus dados estão errados, e todos os Pokémons com velocidade acima de 100 deveriam estar marcados como Type_1 = 'Fire', podemos seguir o procedimento abaixo:"
   ]
  },
  {
   "cell_type": "code",
   "execution_count": null,
   "metadata": {
    "id": "qQBpzewGJqqt"
   },
   "outputs": [],
   "source": [
    "#Observe os valores unicos da coluna Type_1 para os Pokémons com mais de 100 de velocidade\n",
    "pkmn.loc[pkmn['Speed']>100, 'Type_1'].unique()"
   ]
  },
  {
   "cell_type": "code",
   "execution_count": null,
   "metadata": {
    "id": "h72hBW8dJqqu",
    "scrolled": true
   },
   "outputs": [],
   "source": [
    "#Vamos alterar tudo para Fire\n",
    "pkmn.loc[pkmn['Speed']>100, 'Type_1'] = 'Fire'"
   ]
  },
  {
   "cell_type": "code",
   "execution_count": null,
   "metadata": {
    "id": "UzzN9AvnJqqu"
   },
   "outputs": [],
   "source": [
    "#Observe como os valores mudaram\n",
    "pkmn.loc[pkmn['Speed']>100, 'Type_1'].unique()"
   ]
  },
  {
   "cell_type": "markdown",
   "metadata": {
    "id": "stj3Y7WGJqqu"
   },
   "source": [
    "Antes de continuar, vamos ler novamente os dados de Pokémon, sem essa última alteração. Execute a célula abaixo."
   ]
  },
  {
   "cell_type": "code",
   "execution_count": null,
   "metadata": {
    "id": "tv2HUSpHJqqu"
   },
   "outputs": [],
   "source": [
    "pkmn = pd.read_csv(\n",
    "    'pokemon_data.csv', #o caminho para o arquivo que se quer ler\n",
    "    sep=',') #o caracter utilizado para separar os valores\n",
    "\n",
    "pkmn.rename(\n",
    "    columns={'Type 1':'Type_1', 'Type 2':'Type_2', 'Sp. Atk':'Sp_Atk','Sp. Def':'Sp_Def'}, #passando o nome antigo e novo como um dicionário\n",
    "    inplace = True #algumas operações com Pandas criam uma cópia do DataFrame e não alteram o objeto em si, alteramos isso mudando o parâmetro inplace para verdadeiro\n",
    ")"
   ]
  },
  {
   "cell_type": "markdown",
   "metadata": {
    "id": "c8AoBG2uI7XM"
   },
   "source": [
    "### 3.6. Operações em grupo\n",
    "\n",
    "Com Pandas nós podemos aplicar operações em grupos usando o método *.groupby()*. Ele é muito útil por ser uma forma bem simples de extrair informação de dados agregados. Para utilizá-lo, passamos as colunas nas quais queremos agrupar os dados e a operação que queremos fazer. Para exemplificar, vamos ver quantos Pokémons lendários cada geração tem:"
   ]
  },
  {
   "cell_type": "code",
   "execution_count": null,
   "metadata": {
    "id": "sa35RiniJqqv"
   },
   "outputs": [],
   "source": [
    "pkmn.groupby('Generation').Legendary.sum() #fazendo uma soma pois a coluna Legendary é boolean"
   ]
  },
  {
   "cell_type": "markdown",
   "metadata": {
    "id": "f6-GqOx3I7XO"
   },
   "source": [
    "Podemos obter um relatório da média de diversas colunas para cada tipo de Pokémon:"
   ]
  },
  {
   "cell_type": "code",
   "execution_count": null,
   "metadata": {
    "id": "kMKuWc3RJqqv"
   },
   "outputs": [],
   "source": [
    "pkmn.groupby('Type_1')[['HP','Attack','Defense','Sp_Atk','Sp_Def','Speed']].mean()"
   ]
  },
  {
   "cell_type": "markdown",
   "metadata": {
    "id": "oiyLWKjGI7XP"
   },
   "source": [
    "Isso é realmente muito importante e extremamente utilizado com pandas pois conseguimos fazer análises dos grupos com apenas uma linha de código. Podemos perceber, por exemplo, que Pokémons do tipo *Flying* são especialistas em velocidade enquanto *Dragon* e *Fighting* são especialistas em ataque.\n",
    "\n",
    "#### Exercício 3.4\n",
    "Use o método *.groupby()* para descobrir qual país tem o melhor *overall* médio."
   ]
  },
  {
   "cell_type": "code",
   "execution_count": null,
   "metadata": {
    "deletable": false,
    "exid": "3.4",
    "id": "y45dj9wlI7XP"
   },
   "outputs": [],
   "source": [
    "#crie o DataFrame country_avg_overall, que tem o overall médio de cada país (nationality), usando groupby\n",
    "country_avg_overall = ____\n",
    "\n",
    "#usamos o método idxmax() para encontrar o maior overall médio\n",
    "print(\"Melhor overall médio: \\n\", country_avg_overall.loc[country_avg_overall.idxmax()])\n",
    "print(\"Overall médio do Brasil: \", country_avg_overall.loc[\"Brazil\"])"
   ]
  },
  {
   "cell_type": "markdown",
   "metadata": {
    "id": "UvdzWKOBI7XQ"
   },
   "source": [
    "### 3.7. Aplicando funções no Pandas\n",
    "\n",
    "Com Pandas, nós temos um grande nível de controle de nossos dados, e somos capazes de transformá-los conforme precisarmos. Nós podemos, até mesmo, executar funções em DataFrames e manipulá-los como quisermos. Vamos revisitar o método head():"
   ]
  },
  {
   "cell_type": "code",
   "execution_count": null,
   "metadata": {
    "id": "Gy91k6dQI7XQ"
   },
   "outputs": [],
   "source": [
    "pkmn.head()"
   ]
  },
  {
   "cell_type": "markdown",
   "metadata": {
    "id": "LBZGxgGTI7XR"
   },
   "source": [
    "Existem algumas mega evoluções misturadas no dataset (apenas alguns Pokémons são capazes de evoluir temporariamente para sua forma Mega, uma forma mais poderosa). Não seria legal se nós tivéssemos alguma flag que nos diria se um pokémon é mega ou não? E, por um acaso, será que os pokémons mega são mais poderosos?\n",
    "\n",
    "Você deve ter percebido que evoluções mega têm um padrão em nosso DataFrame, algo como 'PokemonMega Pokemon'. Se nós tivermos esse padrão, podemos construir uma função que retorna True se este padrão for detectado:"
   ]
  },
  {
   "cell_type": "code",
   "execution_count": null,
   "metadata": {
    "id": "D79vgBfSI7XS"
   },
   "outputs": [],
   "source": [
    "def is_it_mega(pokemon_name):\n",
    "    \"\"\"\n",
    "    Recebe um nome de pokemon e diz se é uma mega evolução ou não\n",
    "    I: string pokemon_name\n",
    "    O: boolean para Mega evos\n",
    "    \"\"\"\n",
    "    if 'Mega ' in pokemon_name: #é importante usar 'Mega ' e não 'mega', pois há um pokemon chamado Yanmega e outro chamado Meganium que não são uma mega evolução\n",
    "        return True\n",
    "    else:\n",
    "        return False"
   ]
  },
  {
   "cell_type": "markdown",
   "metadata": {
    "id": "y3uv8w5mI7XT"
   },
   "source": [
    "Vamos ver se funciona:"
   ]
  },
  {
   "cell_type": "code",
   "execution_count": null,
   "metadata": {
    "id": "EKkms_kSJqqy"
   },
   "outputs": [],
   "source": [
    "is_it_mega('VenusaurMega Venusaur')"
   ]
  },
  {
   "cell_type": "code",
   "execution_count": null,
   "metadata": {
    "id": "pUF2cV6jJqqz"
   },
   "outputs": [],
   "source": [
    "is_it_mega('Squirtle')"
   ]
  },
  {
   "cell_type": "markdown",
   "metadata": {
    "id": "4NjQh6saI7XW"
   },
   "source": [
    "Excelente! Seria ótimo se conseguíssemos aplicar essa função em todo nosso DataFrame. Para fazer isso, usaremos o método .apply(). Também criaremos uma coluna que é uma flag se o pokémon é mega:"
   ]
  },
  {
   "cell_type": "code",
   "execution_count": null,
   "metadata": {
    "id": "SM50UKunI7XW"
   },
   "outputs": [],
   "source": [
    "pkmn['Mega'] = pkmn.apply(\n",
    "    lambda row: is_it_mega(row['Name']), #chamando uma função lambda que acabamos de construir\n",
    "    axis=1 #qual direção queremos executar a função. 0 para horizontal, 1 para vertical\n",
    ")"
   ]
  },
  {
   "cell_type": "code",
   "execution_count": null,
   "metadata": {
    "id": "HoAA7rmyI7XX"
   },
   "outputs": [],
   "source": [
    "pkmn.head()"
   ]
  },
  {
   "cell_type": "markdown",
   "metadata": {
    "id": "tOjBnx2SI7XZ"
   },
   "source": [
    "Observe como funcionou o apply com lambda. Utilizando o axis=1, a função ```is_it_mega``` é aplicada para cada linha do nosso DataFrame, recebendo como entrada o *Name* do pokémon daquela linha e retornando a flag de True/False na coluna *Mega*.\n",
    "\n",
    "Agora, vamos verificar quão poderosos são os pokémons mega:"
   ]
  },
  {
   "cell_type": "code",
   "execution_count": null,
   "metadata": {
    "id": "1038lMSmI7XZ",
    "scrolled": true
   },
   "outputs": [],
   "source": [
    "pkmn.groupby('Mega').Total.mean()"
   ]
  },
  {
   "cell_type": "markdown",
   "metadata": {
    "id": "Lodu0N3TI7Xb"
   },
   "source": [
    "Uau! Eles têm quase 200 stat points a mais que pokémons normais! Evoluções mega são, sim, muito poderosos! Uma boa prática é sempre tentar manter nosso DataFrame organizado. A forma como os pokémons mega estão nomeados não é muito ótima, e nós já temos uma coluna com a flag para pokémons Mega, então, vamos atacar isso! A estrutura do nome de um pokémon mega é da seguinte forma: 'NomeMega Nome'. Portanto, se nós pegarmos o qeu vem após o caractere ' ', teremos o nome original do pokémon!"
   ]
  },
  {
   "cell_type": "code",
   "execution_count": null,
   "metadata": {
    "id": "QBR2eX5hJqq1"
   },
   "outputs": [],
   "source": [
    "pkmn.Name.nunique() #conta elementos únicos de uma determinada coluna"
   ]
  },
  {
   "cell_type": "code",
   "execution_count": null,
   "metadata": {
    "id": "GHD6us95Jqq1"
   },
   "outputs": [],
   "source": [
    "def get_original_name(s):\n",
    "    \"\"\"\n",
    "    Recebe um nome de pokemon e retorna seu nome original\n",
    "    I: s string\n",
    "    O: string\n",
    "    \"\"\"\n",
    "    return s.split(' ')[-1]\n",
    "\n",
    "pkmn['Name'] = pkmn.Name.apply(lambda s: get_original_name(s)) #sobreescrevendo a coluna Name\n",
    "pkmn.Name.nunique()"
   ]
  },
  {
   "cell_type": "code",
   "execution_count": null,
   "metadata": {
    "id": "1nclcpRGJqq1"
   },
   "outputs": [],
   "source": [
    "pkmn.head()"
   ]
  },
  {
   "cell_type": "markdown",
   "metadata": {
    "id": "ThDV5uypI7Xf"
   },
   "source": [
    "Agora nós já cobrimos toda a parte básica de Pandas! Vamos praticar essa última parte!\n",
    "\n",
    "#### Exercício 3.5\n",
    "Crie uma função que retorna a classificação para o jogador de acordo com as instruções abaixo, então aplique isso para o dataframe fut_players."
   ]
  },
  {
   "cell_type": "code",
   "execution_count": null,
   "metadata": {
    "deletable": false,
    "exid": "3.5",
    "id": "t2DQXbRBJqq2"
   },
   "outputs": [],
   "source": [
    "def get_classification(overall):\n",
    "    \"\"\"\n",
    "    Recebe um overall de algum jogador e retorna a classificação conforme a seguir:\n",
    "    Overall -> classification\n",
    "    -50     -> \"Amador\"\n",
    "    51-60   -> \"Ruim\"\n",
    "    61-70   -> \"Ok\"\n",
    "    71-80   -> \"Bom\"\n",
    "    81-90   -> \"Ótimo\"\n",
    "    91+     -> \"Lenda\"\n",
    "    \n",
    "    I: int overall\n",
    "    O: string\n",
    "    \"\"\"\n",
    "    ____\n",
    "    \n",
    "fut_players[\"classification\"] = ____\n",
    "fut_players.groupby('classification')[['id']].count()"
   ]
  },
  {
   "cell_type": "markdown",
   "metadata": {
    "id": "rA0maHpoquq4"
   },
   "source": [
    "# Declaração de Inexistência de Plágio:\n",
    "\n",
    "1. Eu sei que plágio é utilizar o trabalho de outra pessoa e apresentar como meu.\n",
    "2. Eu sei que plágio é errado e declaro que este notebook foi feito por mim.\n",
    "3. Tenho consciência de que a utilização do trabalho de terceiros é antiético e está sujeito à medidas administrativas.\n",
    "4. Declaro também que não compartilhei e não compartilharei meu trabalho com o intuito de que seja copiado e submetido por outra pessoa."
   ]
  },
  {
   "cell_type": "code",
   "execution_count": null,
   "metadata": {
    "id": "tee_THllJtYX"
   },
   "outputs": [],
   "source": [
    "# LEMBRE-SE DE SALVAR O NOTEBOOK ANTES DE EXECUTAR ESSA CELULA\n",
    "token = '___' # seu token aqui\n",
    "\n",
    "# Não altere o código abaixo\n",
    "import requests as req\n",
    "exec(req.get('https://api.vai.academy/submissioncode').text)"
   ]
  },
  {
   "cell_type": "markdown",
   "metadata": {
    "id": "2vGlLn0hI7Xh"
   },
   "source": [
    "# Fim da aula!\n",
    "\n",
    "Obrigado por participar do curso, você acaba de finalizar a aula de NumPy e Pandas. Neste momento você já deve ser capaz de manipular seus dados no Python, utilizando as bibliotecas que acabamos de aprender! \n",
    "\n",
    "Lembre-se que sempre que surgir alguma dúvida, você pode olhar a documentação do [NumPy](https://numpy.org/doc/) e do [Pandas](https://pandas.pydata.org/docs/)."
   ]
  }
 ],
 "metadata": {
  "colab": {
   "collapsed_sections": [
    "pcH2OAfDI7U3",
    "DFgrAn-4I7U9",
    "C-4-5HH1I7VD",
    "7FwtOqG0I7VK",
    "WcAa54mqI7VT",
    "YIEqkTlVI7VZ",
    "6qKrzYVYI7Vm",
    "KCFQaOxrI7Vs",
    "LQCKYMjYI7Vu",
    "F6pyg9YmI7V4",
    "2QTzo2U5I7WB",
    "wzRDpdWNI7We",
    "_vXlgfodI7Wu",
    "MOgvn0beI7W7",
    "tzPsK8TDI7XK",
    "QBYGj098Jqqt",
    "c8AoBG2uI7XM",
    "oiyLWKjGI7XP"
   ],
   "name": "M00NB02 - Numpy e Pandas.ipynb",
   "provenance": []
  },
  "kernelspec": {
   "display_name": "Python 3",
   "language": "python",
   "name": "python3"
  },
  "language_info": {
   "codemirror_mode": {
    "name": "ipython",
    "version": 3
   },
   "file_extension": ".py",
   "mimetype": "text/x-python",
   "name": "python",
   "nbconvert_exporter": "python",
   "pygments_lexer": "ipython3",
   "version": "3.7.3"
  }
 },
 "nbformat": 4,
 "nbformat_minor": 1
}
